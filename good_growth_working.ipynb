{
 "cells": [
  {
   "cell_type": "code",
   "execution_count": 1,
   "id": "ec192234-4e47-4633-8030-f70c7b579905",
   "metadata": {},
   "outputs": [],
   "source": [
    "import pandas as pd\n",
    "import matplotlib.pyplot as plt\n",
    "from collections import Counter"
   ]
  },
  {
   "cell_type": "code",
   "execution_count": 2,
   "id": "04d606e8",
   "metadata": {},
   "outputs": [],
   "source": [
    "# tqdm wrapper for joblib parallelization\n",
    "import contextlib\n",
    "from tqdm import tqdm\n",
    "import joblib\n",
    "from joblib import Parallel, delayed\n",
    "\n",
    "@contextlib.contextmanager\n",
    "def tqdm_joblib(tqdm_object):\n",
    "    \"\"\"Context manager to patch joblib to report into tqdm progress bar given as argument\"\"\"\n",
    "\n",
    "    class TqdmBatchCompletionCallback(joblib.parallel.BatchCompletionCallBack):\n",
    "        def __call__(self, *args, **kwargs):\n",
    "            tqdm_object.update(n=self.batch_size)\n",
    "            return super().__call__(*args, **kwargs)\n",
    "\n",
    "    old_batch_callback = joblib.parallel.BatchCompletionCallBack\n",
    "    joblib.parallel.BatchCompletionCallBack = TqdmBatchCompletionCallback\n",
    "    try:\n",
    "        yield tqdm_object\n",
    "    finally:\n",
    "        joblib.parallel.BatchCompletionCallBack = old_batch_callback\n",
    "        tqdm_object.close()"
   ]
  },
  {
   "cell_type": "code",
   "execution_count": 92,
   "id": "6e6cb47b-23fe-4eca-b53f-04ded29d460b",
   "metadata": {},
   "outputs": [
    {
     "name": "stderr",
     "output_type": "stream",
     "text": [
      "[nltk_data] Downloading package stopwords to /Users/rohan/nltk_data...\n",
      "[nltk_data]   Package stopwords is already up-to-date!\n"
     ]
    },
    {
     "data": {
      "text/html": [
       "<div>\n",
       "<style scoped>\n",
       "    .dataframe tbody tr th:only-of-type {\n",
       "        vertical-align: middle;\n",
       "    }\n",
       "\n",
       "    .dataframe tbody tr th {\n",
       "        vertical-align: top;\n",
       "    }\n",
       "\n",
       "    .dataframe thead th {\n",
       "        text-align: right;\n",
       "    }\n",
       "</style>\n",
       "<table border=\"1\" class=\"dataframe\">\n",
       "  <thead>\n",
       "    <tr style=\"text-align: right;\">\n",
       "      <th></th>\n",
       "      <th>text</th>\n",
       "      <th>clean_text</th>\n",
       "    </tr>\n",
       "  </thead>\n",
       "  <tbody>\n",
       "    <tr>\n",
       "      <th>0</th>\n",
       "      <td>One of my favourite quotes is from Frederic La...</td>\n",
       "      <td>one favourite quotes frederic laloux : reached...</td>\n",
       "    </tr>\n",
       "    <tr>\n",
       "      <th>1</th>\n",
       "      <td>Permissionless, as guarded by code. Inclusive,...</td>\n",
       "      <td>permissionless , guarded code inclusive , dict...</td>\n",
       "    </tr>\n",
       "    <tr>\n",
       "      <th>2</th>\n",
       "      <td>Is the ability to take ideas and work solution...</td>\n",
       "      <td>ability take ideas work solutions refining alo...</td>\n",
       "    </tr>\n",
       "    <tr>\n",
       "      <th>3</th>\n",
       "      <td>Good growth means its more inclusive where eve...</td>\n",
       "      <td>means inclusive everyone n't gets zero sum gam...</td>\n",
       "    </tr>\n",
       "    <tr>\n",
       "      <th>4</th>\n",
       "      <td>Organic and intentional community proud of wha...</td>\n",
       "      <td>organic intentional community proud ’ achieved...</td>\n",
       "    </tr>\n",
       "  </tbody>\n",
       "</table>\n",
       "</div>"
      ],
      "text/plain": [
       "                                                text  \\\n",
       "0  One of my favourite quotes is from Frederic La...   \n",
       "1  Permissionless, as guarded by code. Inclusive,...   \n",
       "2  Is the ability to take ideas and work solution...   \n",
       "3  Good growth means its more inclusive where eve...   \n",
       "4  Organic and intentional community proud of wha...   \n",
       "\n",
       "                                          clean_text  \n",
       "0  one favourite quotes frederic laloux : reached...  \n",
       "1  permissionless , guarded code inclusive , dict...  \n",
       "2  ability take ideas work solutions refining alo...  \n",
       "3  means inclusive everyone n't gets zero sum gam...  \n",
       "4  organic intentional community proud ’ achieved...  "
      ]
     },
     "execution_count": 92,
     "metadata": {},
     "output_type": "execute_result"
    }
   ],
   "source": [
    "# load in data\n",
    "data = pd.read_csv('good_growth_updated.csv', header=None)\n",
    "\n",
    "# clean data\n",
    "import nltk\n",
    "nltk.download('stopwords')\n",
    "from nltk.corpus import stopwords\n",
    "from nltk.tokenize import word_tokenize\n",
    "\n",
    "stop_words = set(stopwords.words('english'))\n",
    "\n",
    "def clean_text(text):\n",
    "    text = text.lower()\n",
    "    text = text.replace('\\n', ' ')\n",
    "    text = text.replace('\\r', ' ')\n",
    "    text = text.replace('\\t', ' ')\n",
    "    text = text.replace('good', '') # remove good\n",
    "    text = text.replace('growth', '') # remove growth\n",
    "    text = text.replace('\"', '')\n",
    "    text = text.replace('.', '')\n",
    "    final = ''.join([i for i in text if not i.isdigit()])\n",
    "    idx = 0\n",
    "    while idx < len(final) - 1 and not final[idx].isalpha():\n",
    "        idx += 1\n",
    "    final = final[idx:]\n",
    "    word_tokens = word_tokenize(final)\n",
    "    final = \" \".join([w for w in word_tokens if not w in stop_words])\n",
    "\n",
    "    return final\n",
    "\n",
    "\n",
    "data.rename(columns = {data.columns[0]: \"text\"}, inplace = True)\n",
    "data['clean_text'] = data.text.apply(clean_text)\n",
    "data.head()"
   ]
  },
  {
   "cell_type": "code",
   "execution_count": 94,
   "id": "8ffc4aa8",
   "metadata": {},
   "outputs": [],
   "source": [
    "# get n-grams/keywords\n",
    "import yake\n",
    "\n",
    "kw_extractor = yake.KeywordExtractor()\n",
    "language = \"en\"\n",
    "deduplication_threshold = 0.9\n",
    "numOfKeywords = 20\n",
    "\n",
    "full_text = \" \".join(data.clean_text) # join the clean text into a single string\n",
    "\n",
    "f = open('n-grams.txt', 'w')\n",
    "# get 1, 2, and 3-grams\n",
    "for n in [1,2,3]:\n",
    "    custom_kw_extractor = yake.KeywordExtractor(lan=language, n=n, dedupLim=deduplication_threshold, top=numOfKeywords, features=None)\n",
    "    keywords = custom_kw_extractor.extract_keywords(full_text)\n",
    "    f.write(f\"{n}-grams\\n\")\n",
    "    for kw in keywords:\n",
    "        f.write(str(kw))\n",
    "        f.write(\"\\n\")\n",
    "    f.write(\"\\n\")\n",
    "\n",
    "f.close()"
   ]
  },
  {
   "cell_type": "code",
   "execution_count": 95,
   "id": "4756fb26",
   "metadata": {},
   "outputs": [
    {
     "name": "stderr",
     "output_type": "stream",
     "text": [
      "Tokenization List: 100%|██████████| 729/729 [00:11<00:00, 65.26it/s]\n"
     ]
    },
    {
     "data": {
      "text/plain": [
       "[(',', 1236),\n",
       " ('community', 252),\n",
       " ('people', 151),\n",
       " (\"'s\", 122),\n",
       " (')', 117),\n",
       " ('sustainable', 104),\n",
       " ('(', 101),\n",
       " ('would', 85),\n",
       " ('-', 73),\n",
       " ('positive', 70),\n",
       " ('new', 70),\n",
       " ('think', 67),\n",
       " ('grow', 66),\n",
       " (\"n't\", 65),\n",
       " ('growing', 64)]"
      ]
     },
     "execution_count": 95,
     "metadata": {},
     "output_type": "execute_result"
    }
   ],
   "source": [
    "# looking at frequent tokens which appear across the responses\n",
    "with tqdm_joblib(tqdm(desc=\"Tokenization List\", total=len(data))) as progress_bar:\n",
    "    keyword_list = Parallel(n_jobs=3)(delayed(word_tokenize)(text) for text in data['clean_text'])\n",
    "\n",
    "keyword_counter = Counter([item for sublist in keyword_list for item in sublist])\n",
    "keyword_counter.most_common(15)"
   ]
  },
  {
   "cell_type": "code",
   "execution_count": 97,
   "id": "a8036472",
   "metadata": {},
   "outputs": [
    {
     "name": "stderr",
     "output_type": "stream",
     "text": [
      "/Users/rohan/opt/anaconda3/envs/nlp/lib/python3.10/site-packages/scipy/sparse/_index.py:146: SparseEfficiencyWarning: Changing the sparsity structure of a csr_matrix is expensive. lil_matrix is more efficient.\n",
      "  self._set_arrayXarray(i, j, x)\n"
     ]
    }
   ],
   "source": [
    "# generate pairwise similiarity matrix for each document/response\n",
    "from sklearn.feature_extraction.text import TfidfVectorizer\n",
    "import numpy as np\n",
    "\n",
    "documents = list(data['clean_text'])\n",
    "vect = TfidfVectorizer(min_df=1, stop_words=\"english\")                                                                                                                                                                                                   \n",
    "tfidf = vect.fit_transform(documents)                                                                                                                                                                                                                       \n",
    "pairwise_similarity = tfidf * tfidf.T \n",
    "n, _ = pairwise_similarity.shape                                                                                                                                                                                                                         \n",
    "pairwise_similarity[np.arange(n), np.arange(n)] = -1.0 # set diagonal entries negative (identical documents are similar)"
   ]
  },
  {
   "cell_type": "code",
   "execution_count": 98,
   "id": "2d125b63",
   "metadata": {},
   "outputs": [
    {
     "data": {
      "text/plain": [
       "729"
      ]
     },
     "execution_count": 98,
     "metadata": {},
     "output_type": "execute_result"
    }
   ],
   "source": [
    "# generate most and least similar documents for each response (top and bottom 3)\n",
    "import json\n",
    "\n",
    "x = pairwise_similarity.toarray()\n",
    "mapping = []\n",
    "n = 3\n",
    "for i in range(len(x)):\n",
    "    current_dict = {}\n",
    "    law = x[i]\n",
    "    y = (-law).argsort()[:n]\n",
    "    z = (-law).argsort()[-n:]\n",
    "    current_dict[data.text[i]] = {\"most\": [data.text[j] for j in y], \"least\": [data.text[j] for j in z]}\n",
    "    mapping.append(current_dict)\n",
    "\n",
    "with open(\"similar_responses.json\", 'w') as f:\n",
    "    json.dump(mapping, f)\n",
    "\n",
    "len(mapping)"
   ]
  },
  {
   "cell_type": "code",
   "execution_count": 99,
   "id": "62de2669",
   "metadata": {},
   "outputs": [],
   "source": [
    "# vectorize and apply KMeans clustering with 5 clusteres\n",
    "vectorizer = TfidfVectorizer(sublinear_tf=True, min_df=5, max_df=0.95)\n",
    "# fit_transform applies TF-IDF to clean texts - we save the array of vectors in X\n",
    "X = vectorizer.fit_transform(data['clean_text'])\n",
    "\n",
    "from sklearn.cluster import KMeans\n",
    "\n",
    "# initialize kmeans with 3 centroids\n",
    "kmeans = KMeans(n_clusters=5, random_state=42)\n",
    "# fit the model\n",
    "kmeans.fit(X)\n",
    "# store cluster labels in a variable\n",
    "clusters = kmeans.labels_\n",
    "\n",
    "# use PCA to reduce the dimensionality of the data (went with 2 dimensions for easier visualization)\n",
    "from sklearn.decomposition import PCA\n",
    "\n",
    "# initialize PCA with 2 components\n",
    "pca = PCA(n_components=2, random_state=42)\n",
    "# pass our X to the pca and store the reduced vectors into pca_vecs\n",
    "pca_vecs = pca.fit_transform(X.toarray())\n",
    "# save our two dimensions into x0 and x1\n",
    "x0 = pca_vecs[:, 0]\n",
    "x1 = pca_vecs[:, 1]"
   ]
  },
  {
   "cell_type": "code",
   "execution_count": 100,
   "id": "0a942d51",
   "metadata": {},
   "outputs": [
    {
     "name": "stdout",
     "output_type": "stream",
     "text": [
      "\n",
      "Cluster 0\n",
      "world,better,think,knowledge,would,learning,new,impact,positive,people\n",
      "\n",
      "Cluster 1\n",
      "sustainable,users,long,driven,creating,positive,people,community,value,organic\n",
      "\n",
      "Cluster 2\n",
      "would,means,defined,values,building,people,product,members,growing,community\n",
      "\n",
      "Cluster 3\n",
      "driven,long,people,organic,equitable,term,community,benefit,inclusive,sustainable\n",
      "\n",
      "Cluster 4\n",
      "learn,project,something,people,term,others,long,making,development,grow\n"
     ]
    }
   ],
   "source": [
    "# generate top words for each cluster to analyze qualitative separation\n",
    "data['cluster'] = clusters\n",
    "data['x0'] = x0\n",
    "data['x1'] = x1\n",
    "\n",
    "def get_top_keywords(n_terms):\n",
    "    \"\"\"This function returns the keywords for each centroid of the KMeans\"\"\"\n",
    "    df = pd.DataFrame(X.todense()).groupby(clusters).mean() # groups the TF-IDF vector by cluster\n",
    "    terms = vectorizer.get_feature_names_out() # access tf-idf terms\n",
    "    for i,r in df.iterrows():\n",
    "        print('\\nCluster {}'.format(i))\n",
    "        print(','.join([terms[t] for t in np.argsort(r)[-n_terms:]])) # for each row of the dataframe, find the n terms that have the highest tf idf score\n",
    "            \n",
    "get_top_keywords(10)"
   ]
  },
  {
   "cell_type": "code",
   "execution_count": 101,
   "id": "e3817580",
   "metadata": {},
   "outputs": [
    {
     "data": {
      "image/png": "[encoded data removed]",
      "text/plain": [
       "<Figure size 1080x864 with 1 Axes>"
      ]
     },
     "metadata": {
      "needs_background": "light"
     },
     "output_type": "display_data"
    }
   ],
   "source": [
    "# plot clusters as components of the 2D PCA space\n",
    "import seaborn as sns\n",
    "\n",
    "cluster_map = {0: \"learning/knowledge\", 1: \"sustainability\", 2: \"values/community\", 3: \"equity/inclusion\", 4: \"growth/development\"}\n",
    "data['cluster_label'] = data['cluster'].map(cluster_map)\n",
    "\n",
    "plt.figure(figsize=(15, 12))\n",
    "# set a title\n",
    "plt.title(\"TF-IDF + KMeans Good Growth clustering\", fontdict={\"fontsize\": 18})\n",
    "# set axes names\n",
    "plt.xlabel(\"X0\", fontdict={\"fontsize\": 16})\n",
    "plt.ylabel(\"X1\", fontdict={\"fontsize\": 16})\n",
    "# create scatter plot with seaborn, where hue is the class used to group the data\n",
    "sns.scatterplot(data=data, x='x0', y='x1', hue='cluster_label', palette=\"plasma\")\n",
    "plt.show()"
   ]
  },
  {
   "cell_type": "code",
   "execution_count": 52,
   "id": "79ec63f4",
   "metadata": {},
   "outputs": [
    {
     "data": {
      "text/plain": [
       "[('drawbacks', 1),\n",
       " ('longer-term', 1),\n",
       " ('decarbonize', 1),\n",
       " ('policymakers', 1),\n",
       " ('decentralizing', 1),\n",
       " ('racing', 1),\n",
       " ('crossing', 1),\n",
       " ('altogether', 1),\n",
       " ('foreseen', 1),\n",
       " ('shortcomings', 1),\n",
       " ('indeed', 1),\n",
       " ('observe', 1),\n",
       " ('lacked', 1),\n",
       " ('downfall', 1),\n",
       " ('countless', 1),\n",
       " ('short-sighted', 1),\n",
       " ('shallow', 1),\n",
       " ('decides', 1),\n",
       " ('apt', 1),\n",
       " ('quests', 1),\n",
       " ('accelerators', 1),\n",
       " ('disappointed', 1),\n",
       " ('centered', 1),\n",
       " ('valuations', 1),\n",
       " ('gross', 1),\n",
       " ('somebody', 1),\n",
       " ('diy', 1),\n",
       " ('music', 1),\n",
       " ('scene', 1),\n",
       " ('artist', 1),\n",
       " ('managing', 1),\n",
       " ('bands', 1),\n",
       " ('earn', 1),\n",
       " ('fake', 1),\n",
       " ('artistic', 1),\n",
       " ('pondering', 1),\n",
       " ('cash', 1),\n",
       " (\"'slow\", 1),\n",
       " (\"'nurturing\", 1),\n",
       " ('resistance', 1),\n",
       " ('immediacy', 1),\n",
       " ('annoying', 1),\n",
       " ('evaluating', 1),\n",
       " ('defining', 1),\n",
       " ('strategizing', 1),\n",
       " ('prioritizing', 1),\n",
       " ('sincerity', 1),\n",
       " ('allure', 1),\n",
       " ('vanity', 1),\n",
       " ('tied', 1)]"
      ]
     },
     "execution_count": 52,
     "metadata": {},
     "output_type": "execute_result"
    }
   ],
   "source": [
    "# get least common words across the responses (as outliers)\n",
    "from nltk.tokenize import word_tokenize\n",
    "\n",
    "tokens = word_tokenize(full_text)\n",
    "f = open('outliers.txt', 'w')\n",
    "for entry in Counter(tokens).most_common()[-50:]:\n",
    "    f.write(entry)\n",
    "    f.write(\"\\n\")"
   ]
  },
  {
   "cell_type": "markdown",
   "id": "d453b971-b7b0-4795-bd07-5a85d60869a7",
   "metadata": {},
   "source": [
    "## Wordclouds\n",
    "\n",
    "I'm going to start with wordclouds because people are familiar with them and are straightforward to interpret. "
   ]
  },
  {
   "cell_type": "code",
   "execution_count": 14,
   "id": "a1bf6781-3409-43ea-b072-9c9e97cf8e21",
   "metadata": {},
   "outputs": [
    {
     "ename": "ModuleNotFoundError",
     "evalue": "No module named 'nltk'",
     "output_type": "error",
     "traceback": [
      "\u001b[0;31m---------------------------------------------------------------------------\u001b[0m",
      "\u001b[0;31mModuleNotFoundError\u001b[0m                       Traceback (most recent call last)",
      "\u001b[1;32m/Users/rohan/Downloads/good_growth_working.ipynb Cell 9\u001b[0m in \u001b[0;36m<cell line: 1>\u001b[0;34m()\u001b[0m\n\u001b[0;32m----> <a href='vscode-notebook-cell:/Users/rohan/Downloads/good_growth_working.ipynb#ch0000008?line=0'>1</a>\u001b[0m \u001b[39mimport\u001b[39;00m \u001b[39mnltk\u001b[39;00m\n\u001b[1;32m      <a href='vscode-notebook-cell:/Users/rohan/Downloads/good_growth_working.ipynb#ch0000008?line=1'>2</a>\u001b[0m nltk\u001b[39m.\u001b[39mdownload(\u001b[39m'\u001b[39m\u001b[39mstopwords\u001b[39m\u001b[39m'\u001b[39m)\n\u001b[1;32m      <a href='vscode-notebook-cell:/Users/rohan/Downloads/good_growth_working.ipynb#ch0000008?line=2'>3</a>\u001b[0m \u001b[39mfrom\u001b[39;00m \u001b[39mwordcloud\u001b[39;00m \u001b[39mimport\u001b[39;00m WordCloud\n",
      "\u001b[0;31mModuleNotFoundError\u001b[0m: No module named 'nltk'"
     ]
    }
   ],
   "source": [
    "import nltk\n",
    "nltk.download('stopwords')\n",
    "from wordcloud import WordCloud\n",
    "from nltk.corpus import stopwords"
   ]
  },
  {
   "cell_type": "code",
   "execution_count": null,
   "id": "56d93571-275d-4c21-835c-b6f93a1927e0",
   "metadata": {},
   "outputs": [],
   "source": [
    "cloud = WordCloud(\n",
    "    background_color=\"white\",\n",
    "    max_words=20, \n",
    "    stopwords=stopwords.words('english'))\n"
   ]
  },
  {
   "cell_type": "code",
   "execution_count": null,
   "id": "05d2aa29-d9fb-47b0-bc04-4a773f6ff0c8",
   "metadata": {},
   "outputs": [],
   "source": [
    "## get text\n",
    "## i removed \"good\" and \"growth\" from this version of the dataset\n",
    "goodGrowth = \" \".join(texty for texty in data.text)\n"
   ]
  },
  {
   "cell_type": "code",
   "execution_count": null,
   "id": "5696b570-7228-4bcc-9360-8c64814b7b98",
   "metadata": {
    "tags": []
   },
   "outputs": [],
   "source": [
    "## plotyplotthewordplot\n",
    "generic_cloud = WordCloud().generate(goodGrowth)\n"
   ]
  },
  {
   "cell_type": "code",
   "execution_count": null,
   "id": "0b4f83c2-ff64-4452-9d3f-428a06886d94",
   "metadata": {},
   "outputs": [],
   "source": [
    "## visualize generic wordcloud\n",
    "firstPlot = plt.figure(figsize=(6, 6))\n",
    "\n",
    "plt.imshow(generic_cloud, interpolation='bilinear')\n",
    "plt.show()"
   ]
  },
  {
   "cell_type": "code",
   "execution_count": null,
   "id": "046fd017-fb02-45d2-b3b0-295de198d92c",
   "metadata": {},
   "outputs": [],
   "source": [
    "## some adjustments\n",
    "word_cloud2 = WordCloud(collocations = False, background_color = 'white').generate(goodGrowth)\n",
    "\n",
    "plt.imshow(word_cloud2, interpolation='bilinear')\n",
    "plt.axis(\"off\")\n",
    "plt.show()\n"
   ]
  },
  {
   "cell_type": "markdown",
   "id": "828947ba-9f63-466d-836f-d5dff66327ec",
   "metadata": {},
   "source": [
    "## Clusters\n",
    "The wordcloud more or answers how frequent certain keywords are. So next I'll do topic clusters -- what topics emerge from the answers and how do the topics compare to each other?"
   ]
  },
  {
   "cell_type": "code",
   "execution_count": 57,
   "id": "4578e87b-64ea-4b21-80f6-3f6cccf8ce58",
   "metadata": {},
   "outputs": [
    {
     "name": "stderr",
     "output_type": "stream",
     "text": [
      "[nltk_data] Downloading package stopwords to\n",
      "[nltk_data]     /Users/amphiboly/nltk_data...\n",
      "[nltk_data]   Package stopwords is already up-to-date!\n"
     ]
    }
   ],
   "source": [
    "import gensim\n",
    "from gensim import corpora\n",
    "from pprint import pprint\n",
    "from gensim.test.utils import common_texts\n",
    "from nltk.corpus import stopwords\n",
    "nltk.download('stopwords')\n",
    "from nltk.tokenize import word_tokenize\n",
    "\n",
    "raw_clean_growth = pd.read_csv('data/fresh_clean.csv')\n",
    "\n",
    "def remove_stopwords(text):\n",
    "    tokens = word_tokenize(text)\n",
    "    tokens_no_sw = [word for word in tokens if not word in stopwords.words()]\n",
    "    return(tokens_no_sw)\n"
   ]
  },
  {
   "cell_type": "code",
   "execution_count": 58,
   "id": "f08d594f-ee6a-46a4-ae74-9ff1fc974a03",
   "metadata": {},
   "outputs": [],
   "source": [
    "clean_documents = list(raw_clean_growth['text'])"
   ]
  },
  {
   "cell_type": "code",
   "execution_count": 59,
   "id": "5d400c4f-fd64-46ba-adcc-de999b48a69e",
   "metadata": {},
   "outputs": [],
   "source": [
    "# Tokenize the documents.\n",
    "from nltk.tokenize import RegexpTokenizer\n",
    "\n",
    "# Split the documents into tokens.\n",
    "tokenizer = RegexpTokenizer(r'\\w+')\n",
    "for idx in range(len(clean_documents)):\n",
    "    clean_documents[idx] = clean_documents[idx].lower()  # Convert to lowercase.\n",
    "    clean_documents[idx] = tokenizer.tokenize(clean_documents[idx])  # Split into words.\n",
    "\n",
    "# Remove numbers, but not words that contain numbers.\n",
    "clean_documents = [[token for token in doc if not token.isnumeric()] for doc in clean_documents]\n",
    "\n",
    "# Remove words that are only one character.\n",
    "clean_documents = [[token for token in doc if len(token) > 1] for doc in clean_documents]\n"
   ]
  },
  {
   "cell_type": "code",
   "execution_count": 60,
   "id": "fccb2876-7023-4efc-9a41-4fb7d8218697",
   "metadata": {},
   "outputs": [
    {
     "name": "stderr",
     "output_type": "stream",
     "text": [
      "[nltk_data] Downloading package wordnet to\n",
      "[nltk_data]     /Users/amphiboly/nltk_data...\n",
      "[nltk_data]   Package wordnet is already up-to-date!\n",
      "[nltk_data] Downloading package omw-1.4 to\n",
      "[nltk_data]     /Users/amphiboly/nltk_data...\n",
      "[nltk_data]   Package omw-1.4 is already up-to-date!\n"
     ]
    }
   ],
   "source": [
    "# Lemmatize the documents.\n",
    "from nltk.stem.wordnet import WordNetLemmatizer\n",
    "nltk.download('wordnet')\n",
    "nltk.download('omw-1.4')\n",
    "\n",
    "\n",
    "lemmatizer = WordNetLemmatizer()\n",
    "clean_documents = [[lemmatizer.lemmatize(token) for token in doc] for doc in clean_documents]"
   ]
  },
  {
   "cell_type": "code",
   "execution_count": 69,
   "id": "e45cc5b7-ebc2-4ea3-ae38-6aa7508d9775",
   "metadata": {},
   "outputs": [],
   "source": [
    "from gensim.models import Phrases\n",
    "\n",
    "# Add bigrams and trigrams to docs (only ones that appear 20 times or more).\n",
    "bigram = Phrases(clean_documents, min_count=1)\n",
    "for idx in range(len(clean_documents)):\n",
    "    for token in bigram[clean_documents[idx]]:\n",
    "        if '_' in token:\n",
    "            # Token is a bigram, add to document.\n",
    "            clean_documents[idx].append(token)\n"
   ]
  },
  {
   "cell_type": "code",
   "execution_count": 70,
   "id": "3b1cf38d-2e53-4140-ace7-ca2759663931",
   "metadata": {},
   "outputs": [],
   "source": [
    "# Remove rare and common tokens.\n",
    "from gensim.corpora import Dictionary\n",
    "\n",
    "# Create a dictionary representation of the documents.\n",
    "dictionary = Dictionary(clean_documents)\n",
    "\n",
    "# Filter out words that occur less than 20 documents, or more than 50% of the documents.\n",
    "dictionary.filter_extremes(no_below=2, no_above=0.5)\n"
   ]
  },
  {
   "cell_type": "code",
   "execution_count": 71,
   "id": "f001a617-d448-4fa7-8349-9b8b9af45e2c",
   "metadata": {},
   "outputs": [],
   "source": [
    "# Bag-of-words representation of the documents.\n",
    "corpus = [dictionary.doc2bow(doc) for doc in clean_documents]\n"
   ]
  },
  {
   "cell_type": "code",
   "execution_count": 72,
   "id": "96bd22ec-b4bf-45d2-8e06-24c37546e66c",
   "metadata": {},
   "outputs": [
    {
     "name": "stdout",
     "output_type": "stream",
     "text": [
      "Number of unique tokens: 912\n",
      "Number of documents: 390\n"
     ]
    }
   ],
   "source": [
    "print('Number of unique tokens: %d' % len(dictionary))\n",
    "print('Number of documents: %d' % len(corpus))\n"
   ]
  },
  {
   "cell_type": "code",
   "execution_count": 73,
   "id": "a8060fea-bc7a-4298-8066-ee2f48d22e88",
   "metadata": {},
   "outputs": [],
   "source": [
    "# Train LDA model.\n",
    "\n",
    "from gensim.models import LdaModel\n",
    "\n",
    "# Set training parameters.\n",
    "num_topics = 10\n",
    "chunksize = 2000\n",
    "passes = 20\n",
    "iterations = 400\n",
    "eval_every = None  # Don't evaluate model perplexity, takes too much time.\n",
    "\n",
    "# Make an index to word dictionary.\n",
    "temp = dictionary[0]  # This is only to \"load\" the dictionary.\n",
    "id2word = dictionary.id2token\n",
    "\n",
    "model = LdaModel(\n",
    "    corpus=corpus,\n",
    "    id2word=id2word,\n",
    "    chunksize=chunksize,\n",
    "    alpha='auto',\n",
    "    eta='auto',\n",
    "    iterations=iterations,\n",
    "    num_topics=num_topics,\n",
    "    passes=passes,\n",
    "    eval_every=eval_every\n",
    ")\n"
   ]
  },
  {
   "cell_type": "code",
   "execution_count": 74,
   "id": "70ccf6a9-58cc-4306-8160-16a011ad2ece",
   "metadata": {},
   "outputs": [
    {
     "name": "stdout",
     "output_type": "stream",
     "text": [
      "Average topic coherence: -7.5042.\n",
      "[([(0.021343023, 'community'),\n",
      "   (0.01371849, 'one'),\n",
      "   (0.013718257, 'more'),\n",
      "   (0.013716324, 'rather_than'),\n",
      "   (0.0135203395, 'long_term'),\n",
      "   (0.012211046, 'story'),\n",
      "   (0.012211043, 'idea'),\n",
      "   (0.012146256, 'way'),\n",
      "   (0.009195938, 'there'),\n",
      "   (0.009195627, 'look_like'),\n",
      "   (0.009194261, 'the'),\n",
      "   (0.008722973, 'value'),\n",
      "   (0.008296266, 'a'),\n",
      "   (0.007855242, 'sustainable'),\n",
      "   (0.0076905387, 'mean'),\n",
      "   (0.007689675, 'project'),\n",
      "   (0.007688382, 'person'),\n",
      "   (0.007688265, 'today'),\n",
      "   (0.0076881084, 'in'),\n",
      "   (0.007657114, 'term')],\n",
      "  -5.677976598195376),\n",
      " ([(0.025769023, 'community'),\n",
      "   (0.012189387, 'a'),\n",
      "   (0.012188854, 'way'),\n",
      "   (0.011984316, 'benefit'),\n",
      "   (0.009178943, 'people'),\n",
      "   (0.009178942, 'individual'),\n",
      "   (0.00855681, 'project'),\n",
      "   (0.007674174, 'it'),\n",
      "   (0.0076741683, 'self'),\n",
      "   (0.0076741683, 'better'),\n",
      "   (0.006633968, 'member'),\n",
      "   (0.006340548, 'organic'),\n",
      "   (0.006236316, 'come'),\n",
      "   (0.006169407, 'could'),\n",
      "   (0.006169407, 'web'),\n",
      "   (0.006169407, 'through'),\n",
      "   (0.0061694067, 'feel'),\n",
      "   (0.0061694058, 'new'),\n",
      "   (0.006169405, 'most'),\n",
      "   (0.006169403, 'impact')],\n",
      "  -5.728296172290493),\n",
      " ([(0.023127683, 'thing'),\n",
      "   (0.01515979, 'learning'),\n",
      "   (0.014476671, 'need'),\n",
      "   (0.014476671, 'a_well'),\n",
      "   (0.0144741135, 'financial'),\n",
      "   (0.013830073, 'people'),\n",
      "   (0.012103425, 'would'),\n",
      "   (0.012103424, 'community'),\n",
      "   (0.012100944, 'development'),\n",
      "   (0.009730173, 'doe'),\n",
      "   (0.009730171, 'more_than'),\n",
      "   (0.009730171, 'the'),\n",
      "   (0.009712109, 'learning_new'),\n",
      "   (0.009608101, 'develop'),\n",
      "   (0.009351632, 'new'),\n",
      "   (0.007358113, 'sustainable'),\n",
      "   (0.007356925, 'define'),\n",
      "   (0.0073569245, 'a'),\n",
      "   (0.007356924, 'one'),\n",
      "   (0.007356923, 'great')],\n",
      "  -6.000028547460718),\n",
      " ([(0.019676, 'a'),\n",
      "   (0.019675244, 'community'),\n",
      "   (0.016672764, 'people'),\n",
      "   (0.013668023, 'more_than'),\n",
      "   (0.013668017, 'such_a'),\n",
      "   (0.010387801, 'learning'),\n",
      "   (0.009162034, 'product'),\n",
      "   (0.007660793, 'than'),\n",
      "   (0.0076600397, 'define_a'),\n",
      "   (0.0076600397, 'into'),\n",
      "   (0.0076600383, 'such'),\n",
      "   (0.0076600383, 'more'),\n",
      "   (0.007660036, 'grow'),\n",
      "   (0.0076600355, 'individual'),\n",
      "   (0.0076600355, 'need'),\n",
      "   (0.0071758414, 'just'),\n",
      "   (0.006158796, 'project'),\n",
      "   (0.0061580427, 'idea'),\n",
      "   (0.0061580422, 'want'),\n",
      "   (0.0061580422, 'perspective')],\n",
      "  -6.476551235889783),\n",
      " ([(0.017671587, 'community'),\n",
      "   (0.01672627, 'more'),\n",
      "   (0.015219381, 'it'),\n",
      "   (0.01521938, 'value'),\n",
      "   (0.014037191, 'sustainable'),\n",
      "   (0.012205618, 'people'),\n",
      "   (0.010698737, 'how_do'),\n",
      "   (0.010698734, 'thats'),\n",
      "   (0.009191858, 'a'),\n",
      "   (0.009191853, 'sum_game'),\n",
      "   (0.008883801, 'everyone'),\n",
      "   (0.007695917, 'grow'),\n",
      "   (0.007684974, 'individual'),\n",
      "   (0.007684971, 'do'),\n",
      "   (0.00768497, 'being'),\n",
      "   (0.0076849684, 'create'),\n",
      "   (0.0076849665, 'goal'),\n",
      "   (0.007684962, 'think'),\n",
      "   (0.007684204, 'high'),\n",
      "   (0.0061784126, 'positive')],\n",
      "  -6.537945227454657),\n",
      " ([(0.024606248, 'member'),\n",
      "   (0.021636615, 'community'),\n",
      "   (0.017719613, 'sustainable'),\n",
      "   (0.014456978, 'more'),\n",
      "   (0.01024434, 'early'),\n",
      "   (0.010072665, 'positive'),\n",
      "   (0.009102493, 'there'),\n",
      "   (0.009102493, 'idea'),\n",
      "   (0.009102493, 'in'),\n",
      "   (0.00910249, 'think'),\n",
      "   (0.00910249, 'the'),\n",
      "   (0.009100685, 'stable'),\n",
      "   (0.009030754, 'inclusive'),\n",
      "   (0.008053936, 'project'),\n",
      "   (0.007317662, 'power'),\n",
      "   (0.007317662, 'barrier'),\n",
      "   (0.00731766, 'time'),\n",
      "   (0.00731766, 'so'),\n",
      "   (0.0073176525, 'creates'),\n",
      "   (0.007316762, 'fair')],\n",
      "  -7.140303520750769),\n",
      " ([(0.030215312, 'each_other'),\n",
      "   (0.02403429, 'community'),\n",
      "   (0.016835455, 'grow'),\n",
      "   (0.01680167, 'people'),\n",
      "   (0.014653087, 'a'),\n",
      "   (0.01359279, 'each'),\n",
      "   (0.011864497, 'everyone'),\n",
      "   (0.011814544, 'other'),\n",
      "   (0.010278603, 'do'),\n",
      "   (0.010278594, 'win'),\n",
      "   (0.010277323, 'a_well'),\n",
      "   (0.010277126, 'mean'),\n",
      "   (0.009956606, 'impact'),\n",
      "   (0.0098960735, 'steady'),\n",
      "   (0.008959115, 'just'),\n",
      "   (0.008594403, 'member'),\n",
      "   (0.008593563, 'there'),\n",
      "   (0.008593563, 'sum_game'),\n",
      "   (0.008593558, 'come'),\n",
      "   (0.008593541, 'knowledge')],\n",
      "  -7.597058224636023),\n",
      " ([(0.026579442, 'community'),\n",
      "   (0.021468068, 'would_define'),\n",
      "   (0.017919606, 'a'),\n",
      "   (0.014994983, 'people'),\n",
      "   (0.014371142, 'would'),\n",
      "   (0.01082689, 'sustainable'),\n",
      "   (0.010822677, 'many'),\n",
      "   (0.009048444, 'define'),\n",
      "   (0.009048443, 'idea'),\n",
      "   (0.009048442, 'result'),\n",
      "   (0.007274211, 'because'),\n",
      "   (0.00727421, 'without'),\n",
      "   (0.00727421, 'it'),\n",
      "   (0.0072741355, 'capacity'),\n",
      "   (0.007272094, 'focus'),\n",
      "   (0.005499977, 'trust'),\n",
      "   (0.005499977, 'due'),\n",
      "   (0.0054999767, 'say'),\n",
      "   (0.005499976, 'organization'),\n",
      "   (0.0054999753, 'while')],\n",
      "  -8.603053742920558),\n",
      " ([(0.023812197, 'community'),\n",
      "   (0.01896104, 'growing'),\n",
      "   (0.018603526, 'people'),\n",
      "   (0.017473785, 'more'),\n",
      "   (0.014568097, 'positive'),\n",
      "   (0.014018678, 'a'),\n",
      "   (0.011783578, 'learning'),\n",
      "   (0.010557119, 'would_define'),\n",
      "   (0.010557117, 'a_well'),\n",
      "   (0.008826803, 'also'),\n",
      "   (0.0088265855, 'it'),\n",
      "   (0.008826419, 'support'),\n",
      "   (0.008826401, 'well'),\n",
      "   (0.008825194, 'engaged'),\n",
      "   (0.008825149, 'er'),\n",
      "   (0.007095886, 'benefit'),\n",
      "   (0.0070958585, 'value'),\n",
      "   (0.0070957206, 'come'),\n",
      "   (0.0070957206, 'feel'),\n",
      "   (0.0070957174, 'space')],\n",
      "  -9.186370641806622),\n",
      " ([(0.043308105, 'community'),\n",
      "   (0.040441886, 'sustainable'),\n",
      "   (0.033997722, 'organic'),\n",
      "   (0.018576311, 'value'),\n",
      "   (0.010364313, 'people'),\n",
      "   (0.010051632, 'everything'),\n",
      "   (0.009795002, 'driven'),\n",
      "   (0.0095715, 'er'),\n",
      "   (0.0075999782, 'natural'),\n",
      "   (0.007599978, 'the'),\n",
      "   (0.007599978, 'individual'),\n",
      "   (0.0075999764, 'communal'),\n",
      "   (0.0075999764, 'goal'),\n",
      "   (0.007599976, 'mean'),\n",
      "   (0.0075999745, 'also'),\n",
      "   (0.007599966, 'grow'),\n",
      "   (0.007599356, 'being'),\n",
      "   (0.007598729, 'free'),\n",
      "   (0.0075987284, 'strong'),\n",
      "   (0.007586148, 'longterm')],\n",
      "  -12.093988753096353)]\n"
     ]
    }
   ],
   "source": [
    "top_topics = model.top_topics(corpus)\n",
    "\n",
    "# Average topic coherence is the sum of topic coherences of all topics, divided by the number of topics.\n",
    "avg_topic_coherence = sum([t[1] for t in top_topics]) / num_topics\n",
    "print('Average topic coherence: %.4f.' % avg_topic_coherence)\n",
    "\n",
    "from pprint import pprint\n",
    "pprint(top_topics)\n"
   ]
  },
  {
   "cell_type": "code",
   "execution_count": null,
   "id": "2132447f",
   "metadata": {},
   "outputs": [],
   "source": []
  }
 ],
 "metadata": {
  "kernelspec": {
   "display_name": "Python 3.10.4 64-bit ('nlp')",
   "language": "python",
   "name": "python3"
  },
  "language_info": {
   "codemirror_mode": {
    "name": "ipython",
    "version": 3
   },
   "file_extension": ".py",
   "mimetype": "text/x-python",
   "name": "python",
   "nbconvert_exporter": "python",
   "pygments_lexer": "ipython3",
   "version": "3.10.4"
  },
  "vscode": {
   "interpreter": {
    "hash": "e6ac4e15e1a71d20e2e2456fdd2a7b3d80e00d9588c2d34976f48e34513dd912"
   }
  }
 },
 "nbformat": 4,
 "nbformat_minor": 5
}
